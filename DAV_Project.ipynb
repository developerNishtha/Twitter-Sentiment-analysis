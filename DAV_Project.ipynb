{
  "cells": [
    {
      "cell_type": "markdown",
      "metadata": {
        "id": "view-in-github",
        "colab_type": "text"
      },
      "source": [
        "<a href=\"https://colab.research.google.com/github/developerNishtha/Twitter-Sentiment-analysis/blob/main/DAV_Project.ipynb\" target=\"_parent\"><img src=\"https://colab.research.google.com/assets/colab-badge.svg\" alt=\"Open In Colab\"/></a>"
      ]
    },
    {
      "cell_type": "markdown",
      "metadata": {
        "id": "PJdqfQ5mWJ1o"
      },
      "source": [
        "# **Twitter Sentiment Analysis**\n",
        "---\n",
        "**Mentor:** Dhaval Deshkar Sir</br>\n",
        "\n",
        "**Subject:** DAV</br>\n",
        "**Subject code:** BCS506</br>\n",
        "\n",
        "**Name:** Shah Nishtha\n",
        "</br>\n",
        "**Enrollment No.:** 200031101611048\n",
        "\n",
        "**Name:** Patel Het\n",
        "</br>\n",
        "**Enrollment No.:** 200031101611039\n",
        "\n",
        "</br>\n",
        "\n",
        "# <img src=\"https://miro.medium.com/max/700/1*0OVev9mGkNJblfkOxkknAQ.png\">\n",
        "\n",
        "\n"
      ],
      "id": "PJdqfQ5mWJ1o"
    },
    {
      "cell_type": "code",
      "execution_count": null,
      "metadata": {
        "id": "NcRzKVY6jdmJ"
      },
      "outputs": [],
      "source": [
        "!mkdir -p ~/.kaggle\n",
        "!cp kaggle.json ~/.kaggle/\n",
        "!chmod 600 /root/.kaggle/kaggle.json"
      ],
      "id": "NcRzKVY6jdmJ"
    },
    {
      "cell_type": "code",
      "execution_count": null,
      "metadata": {
        "colab": {
          "base_uri": "https://localhost:8080/"
        },
        "id": "h7nMIjYBjisE",
        "outputId": "165bd337-10f3-4d98-a282-f3200d7f67cb"
      },
      "outputs": [
        {
          "output_type": "stream",
          "name": "stdout",
          "text": [
            "Downloading sentiment140.zip to /content\n",
            " 70% 57.0M/80.9M [00:00<00:00, 97.0MB/s]\n",
            "100% 80.9M/80.9M [00:00<00:00, 117MB/s] \n"
          ]
        }
      ],
      "source": [
        "!kaggle datasets download -d kazanova/sentiment140"
      ],
      "id": "h7nMIjYBjisE"
    },
    {
      "cell_type": "code",
      "execution_count": null,
      "metadata": {
        "id": "zLKCaXd8josc"
      },
      "outputs": [],
      "source": [
        "import zipfile\n",
        "zip_ref = zipfile.ZipFile('/content/sentiment140.zip', 'r')\n",
        "zip_ref.extractall('/content')\n",
        "zip_ref.close()"
      ],
      "id": "zLKCaXd8josc"
    },
    {
      "cell_type": "markdown",
      "metadata": {
        "id": "productive-aberdeen"
      },
      "source": [
        "<div class=\"alert alert-block alert-info\">  \n",
        "<h1><strong>Context</strong></h1>\n",
        "    <p>Millions of people are using Twitter and expressing their emotions like happiness, sadness, angry, etc. The Sentiment analysis is also about detecting the emotions, opinion, assessment, attitudes, and take this into consideration as a way humans think. Sentiment analysis classifies the emotions into classes such as positive or negative. Nowadays, industries are interested to use textual data for semantic analysis to extract the view of people about their products and services. Sentiment analysis is very important for them to know the customer satisfaction level and they can improve their services accordingly. To work on the text data, they try to extract the data from social media platforms. There are a lot of social media sites like Google Plus, Facebook, and Twitter that allow expressing opinions, views, and emotions about certain topics and events. Microblogging site Twitter is expanding rapidly among all other online social media networking sites with about 200 million users. Twitter users use to post their thoughts, emotions, and messages on their profiles, called tweets. Words limit of a single tweet has 140 characters. Twitter sentiment analysis based on the NLP (natural language processing) field. For tweets text, we use NLP techniques like tokenizing the words, removing the stop words like I, me, my, our, your, is, was, etc. Natural language processing also plays a part to preprocess the data like cleaning the text and removing the special characters and punctuation marks. Sentimental analysis is very important because we can know the trends of people’s emotions on specific topics with their tweets.</p>\n",
        "    <br>\n",
        "        <hr>\n",
        "      <h3><b>Problem Statement: </b> </h3>\n",
        "    <hr>\n",
        "<ul>\n",
        "    To derive a sentimental analyzer for overcoming the challenges to identify the twitter tweets text sentiments (positive, negative) by implementing neural network using tensorflow.\n",
        "</ul>\n",
        "\n",
        "</br>\n",
        "<hr>\n",
        "<h3><b>Evolution measures: </b> </h3>\n",
        "<hr>\n",
        "<ul>\n",
        "<p> After training the model, we apply the evaluation measures to check that how the model is getting predictions. We will use the following evaluation measures to evaluate the performance of the models:</p>\n",
        "    <li>Accuracy</li>\n",
        "    <li>Confusion matrix with plot</li>\n",
        "    <li>ROC Curve</li>\n",
        "</ul>\n",
        "</br>\n",
        "<hr>\n",
        "<h3><b>Technical Approach</b></h3>\n",
        "<hr>\n",
        "<p>We are using python language in the implementations and Colab that support the machine learning and data science projects. We will build tensorflow based model. We will use Sentiment 140 dataset and split that data into 70% for training and 30% for the testing purposes. After training on the model, we will evaluate the model to evaluate the performance of trained model.</p>\n",
        "</br>\n",
        "<hr>\n",
        "<h3><b>Data Dictionary</b></h3>\n",
        "<hr>\n",
        "<ul>\n",
        "    <li>target: the polarity of the tweet</li>\n",
        "    <li>ids: The id of the tweet </li>\n",
        "    <li>date: the date of the tweet </li>\n",
        "    <li>flag: The query. If there is no query, then this value is NO_QUERY.</li>\n",
        "    <li>user: the user that tweeted </li>\n",
        "    <li>text: the text of the tweet</li>\n",
        "</ul>\n",
        "\n",
        "</div>"
      ],
      "id": "productive-aberdeen"
    },
    {
      "cell_type": "markdown",
      "metadata": {
        "id": "moral-avatar"
      },
      "source": [
        "<div class=\"alert alert-block alert-danger\">  \n",
        "<h2><strong>Importing Python Libraries 📗 📘 </strong></h2>\n",
        "        \n",
        "</div>"
      ],
      "id": "moral-avatar"
    },
    {
      "cell_type": "markdown",
      "metadata": {
        "id": "cultural-berkeley"
      },
      "source": [
        "- Libraries are important and we call them to perform the different actions on our data and for training the models.\n",
        "- Its a first step to load the library to perform the specific task"
      ],
      "id": "cultural-berkeley"
    },
    {
      "cell_type": "markdown",
      "metadata": {
        "id": "operational-oliver"
      },
      "source": [
        "<h4> We are uisng the following libraries:</h4>\n",
        "\n",
        "- numpy \n",
        "\n",
        "- pandas\n",
        "\n",
        "- tensorflow\n",
        "\n",
        "- keras\n",
        "\n",
        "- nltk\n",
        "\n",
        "- seaborn"
      ],
      "id": "operational-oliver"
    },
    {
      "cell_type": "code",
      "execution_count": null,
      "metadata": {
        "id": "necessary-active",
        "scrolled": true
      },
      "outputs": [],
      "source": [
        "import numpy as np \n",
        "import pandas as pd \n",
        "import seaborn as sns \n",
        "import matplotlib.pyplot as plt\n",
        "plt.style.use('ggplot')\n",
        "from sklearn.metrics import roc_curve, auc\n",
        "from sklearn.metrics import classification_report, confusion_matrix\n",
        "import nltk\n",
        "from nltk.corpus import stopwords\n",
        "from nltk.stem import PorterStemmer \n",
        "from sklearn.model_selection import train_test_split\n",
        "from mlxtend.plotting import plot_confusion_matrix\n",
        "import matplotlib.cm as cm\n",
        "from matplotlib import rcParams\n",
        "from collections import Counter\n",
        "from nltk.tokenize import RegexpTokenizer\n",
        "import re\n",
        "import string\n",
        "from tensorflow.keras.layers import LSTM, Activation, Dense, Dropout, Input, Embedding\n",
        "from tensorflow.keras.models import Model\n",
        "from tensorflow.keras.optimizers import RMSprop\n",
        "from tensorflow.keras.preprocessing.text import Tokenizer\n",
        "from tensorflow.keras.preprocessing import sequence\n",
        "%matplotlib inline\n",
        "\n",
        "import warnings\n",
        "warnings.filterwarnings(\"ignore\")"
      ],
      "id": "necessary-active"
    },
    {
      "cell_type": "markdown",
      "metadata": {
        "id": "unusual-gasoline"
      },
      "source": [
        "<div class=\"alert alert-block alert-danger\">  \n",
        "<h2><strong>Loading the data 📁 📂</strong></h2>\n",
        "        \n",
        "</div>"
      ],
      "id": "unusual-gasoline"
    },
    {
      "cell_type": "code",
      "execution_count": null,
      "metadata": {
        "id": "hawaiian-locking"
      },
      "outputs": [],
      "source": [
        "data = pd.read_csv(\"/content/training.1600000.processed.noemoticon.csv\", encoding = \"ISO-8859-1\", engine=\"python\")\n",
        "data.columns = [\"label\", \"time\", \"date\", \"query\", \"username\", \"text\"]"
      ],
      "id": "hawaiian-locking"
    },
    {
      "cell_type": "markdown",
      "metadata": {
        "id": "fatal-friendship"
      },
      "source": [
        "<div class=\"alert alert-block alert-danger\">  \n",
        "<h2><strong>Understanding the structure of the data 🔎 📊</strong></h2>\n",
        "        \n",
        "</div>"
      ],
      "id": "fatal-friendship"
    },
    {
      "cell_type": "code",
      "execution_count": null,
      "metadata": {
        "colab": {
          "base_uri": "https://localhost:8080/",
          "height": 206
        },
        "id": "broken-cathedral",
        "outputId": "95cdd883-2fe1-4bf1-c08a-d8fbf251b3fc"
      },
      "outputs": [
        {
          "output_type": "execute_result",
          "data": {
            "text/plain": [
              "   label        time                          date     query       username  \\\n",
              "0      0  1467810672  Mon Apr 06 22:19:49 PDT 2009  NO_QUERY  scotthamilton   \n",
              "1      0  1467810917  Mon Apr 06 22:19:53 PDT 2009  NO_QUERY       mattycus   \n",
              "2      0  1467811184  Mon Apr 06 22:19:57 PDT 2009  NO_QUERY        ElleCTF   \n",
              "3      0  1467811193  Mon Apr 06 22:19:57 PDT 2009  NO_QUERY         Karoli   \n",
              "4      0  1467811372  Mon Apr 06 22:20:00 PDT 2009  NO_QUERY       joy_wolf   \n",
              "\n",
              "                                                text  \n",
              "0  is upset that he can't update his Facebook by ...  \n",
              "1  @Kenichan I dived many times for the ball. Man...  \n",
              "2    my whole body feels itchy and like its on fire   \n",
              "3  @nationwideclass no, it's not behaving at all....  \n",
              "4                      @Kwesidei not the whole crew   "
            ],
            "text/html": [
              "\n",
              "  <div id=\"df-a689bb4f-e09e-4a2c-9f9b-91af11dba669\">\n",
              "    <div class=\"colab-df-container\">\n",
              "      <div>\n",
              "<style scoped>\n",
              "    .dataframe tbody tr th:only-of-type {\n",
              "        vertical-align: middle;\n",
              "    }\n",
              "\n",
              "    .dataframe tbody tr th {\n",
              "        vertical-align: top;\n",
              "    }\n",
              "\n",
              "    .dataframe thead th {\n",
              "        text-align: right;\n",
              "    }\n",
              "</style>\n",
              "<table border=\"1\" class=\"dataframe\">\n",
              "  <thead>\n",
              "    <tr style=\"text-align: right;\">\n",
              "      <th></th>\n",
              "      <th>label</th>\n",
              "      <th>time</th>\n",
              "      <th>date</th>\n",
              "      <th>query</th>\n",
              "      <th>username</th>\n",
              "      <th>text</th>\n",
              "    </tr>\n",
              "  </thead>\n",
              "  <tbody>\n",
              "    <tr>\n",
              "      <th>0</th>\n",
              "      <td>0</td>\n",
              "      <td>1467810672</td>\n",
              "      <td>Mon Apr 06 22:19:49 PDT 2009</td>\n",
              "      <td>NO_QUERY</td>\n",
              "      <td>scotthamilton</td>\n",
              "      <td>is upset that he can't update his Facebook by ...</td>\n",
              "    </tr>\n",
              "    <tr>\n",
              "      <th>1</th>\n",
              "      <td>0</td>\n",
              "      <td>1467810917</td>\n",
              "      <td>Mon Apr 06 22:19:53 PDT 2009</td>\n",
              "      <td>NO_QUERY</td>\n",
              "      <td>mattycus</td>\n",
              "      <td>@Kenichan I dived many times for the ball. Man...</td>\n",
              "    </tr>\n",
              "    <tr>\n",
              "      <th>2</th>\n",
              "      <td>0</td>\n",
              "      <td>1467811184</td>\n",
              "      <td>Mon Apr 06 22:19:57 PDT 2009</td>\n",
              "      <td>NO_QUERY</td>\n",
              "      <td>ElleCTF</td>\n",
              "      <td>my whole body feels itchy and like its on fire</td>\n",
              "    </tr>\n",
              "    <tr>\n",
              "      <th>3</th>\n",
              "      <td>0</td>\n",
              "      <td>1467811193</td>\n",
              "      <td>Mon Apr 06 22:19:57 PDT 2009</td>\n",
              "      <td>NO_QUERY</td>\n",
              "      <td>Karoli</td>\n",
              "      <td>@nationwideclass no, it's not behaving at all....</td>\n",
              "    </tr>\n",
              "    <tr>\n",
              "      <th>4</th>\n",
              "      <td>0</td>\n",
              "      <td>1467811372</td>\n",
              "      <td>Mon Apr 06 22:20:00 PDT 2009</td>\n",
              "      <td>NO_QUERY</td>\n",
              "      <td>joy_wolf</td>\n",
              "      <td>@Kwesidei not the whole crew</td>\n",
              "    </tr>\n",
              "  </tbody>\n",
              "</table>\n",
              "</div>\n",
              "      <button class=\"colab-df-convert\" onclick=\"convertToInteractive('df-a689bb4f-e09e-4a2c-9f9b-91af11dba669')\"\n",
              "              title=\"Convert this dataframe to an interactive table.\"\n",
              "              style=\"display:none;\">\n",
              "        \n",
              "  <svg xmlns=\"http://www.w3.org/2000/svg\" height=\"24px\"viewBox=\"0 0 24 24\"\n",
              "       width=\"24px\">\n",
              "    <path d=\"M0 0h24v24H0V0z\" fill=\"none\"/>\n",
              "    <path d=\"M18.56 5.44l.94 2.06.94-2.06 2.06-.94-2.06-.94-.94-2.06-.94 2.06-2.06.94zm-11 1L8.5 8.5l.94-2.06 2.06-.94-2.06-.94L8.5 2.5l-.94 2.06-2.06.94zm10 10l.94 2.06.94-2.06 2.06-.94-2.06-.94-.94-2.06-.94 2.06-2.06.94z\"/><path d=\"M17.41 7.96l-1.37-1.37c-.4-.4-.92-.59-1.43-.59-.52 0-1.04.2-1.43.59L10.3 9.45l-7.72 7.72c-.78.78-.78 2.05 0 2.83L4 21.41c.39.39.9.59 1.41.59.51 0 1.02-.2 1.41-.59l7.78-7.78 2.81-2.81c.8-.78.8-2.07 0-2.86zM5.41 20L4 18.59l7.72-7.72 1.47 1.35L5.41 20z\"/>\n",
              "  </svg>\n",
              "      </button>\n",
              "      \n",
              "  <style>\n",
              "    .colab-df-container {\n",
              "      display:flex;\n",
              "      flex-wrap:wrap;\n",
              "      gap: 12px;\n",
              "    }\n",
              "\n",
              "    .colab-df-convert {\n",
              "      background-color: #E8F0FE;\n",
              "      border: none;\n",
              "      border-radius: 50%;\n",
              "      cursor: pointer;\n",
              "      display: none;\n",
              "      fill: #1967D2;\n",
              "      height: 32px;\n",
              "      padding: 0 0 0 0;\n",
              "      width: 32px;\n",
              "    }\n",
              "\n",
              "    .colab-df-convert:hover {\n",
              "      background-color: #E2EBFA;\n",
              "      box-shadow: 0px 1px 2px rgba(60, 64, 67, 0.3), 0px 1px 3px 1px rgba(60, 64, 67, 0.15);\n",
              "      fill: #174EA6;\n",
              "    }\n",
              "\n",
              "    [theme=dark] .colab-df-convert {\n",
              "      background-color: #3B4455;\n",
              "      fill: #D2E3FC;\n",
              "    }\n",
              "\n",
              "    [theme=dark] .colab-df-convert:hover {\n",
              "      background-color: #434B5C;\n",
              "      box-shadow: 0px 1px 3px 1px rgba(0, 0, 0, 0.15);\n",
              "      filter: drop-shadow(0px 1px 2px rgba(0, 0, 0, 0.3));\n",
              "      fill: #FFFFFF;\n",
              "    }\n",
              "  </style>\n",
              "\n",
              "      <script>\n",
              "        const buttonEl =\n",
              "          document.querySelector('#df-a689bb4f-e09e-4a2c-9f9b-91af11dba669 button.colab-df-convert');\n",
              "        buttonEl.style.display =\n",
              "          google.colab.kernel.accessAllowed ? 'block' : 'none';\n",
              "\n",
              "        async function convertToInteractive(key) {\n",
              "          const element = document.querySelector('#df-a689bb4f-e09e-4a2c-9f9b-91af11dba669');\n",
              "          const dataTable =\n",
              "            await google.colab.kernel.invokeFunction('convertToInteractive',\n",
              "                                                     [key], {});\n",
              "          if (!dataTable) return;\n",
              "\n",
              "          const docLinkHtml = 'Like what you see? Visit the ' +\n",
              "            '<a target=\"_blank\" href=https://colab.research.google.com/notebooks/data_table.ipynb>data table notebook</a>'\n",
              "            + ' to learn more about interactive tables.';\n",
              "          element.innerHTML = '';\n",
              "          dataTable['output_type'] = 'display_data';\n",
              "          await google.colab.output.renderOutput(dataTable, element);\n",
              "          const docLink = document.createElement('div');\n",
              "          docLink.innerHTML = docLinkHtml;\n",
              "          element.appendChild(docLink);\n",
              "        }\n",
              "      </script>\n",
              "    </div>\n",
              "  </div>\n",
              "  "
            ]
          },
          "metadata": {},
          "execution_count": 6
        }
      ],
      "source": [
        "data.head()"
      ],
      "id": "broken-cathedral"
    },
    {
      "cell_type": "code",
      "execution_count": null,
      "metadata": {
        "colab": {
          "base_uri": "https://localhost:8080/",
          "height": 337
        },
        "id": "boolean-pittsburgh",
        "outputId": "f51fb195-fc19-4bed-f6e9-13dcbd406e80"
      },
      "outputs": [
        {
          "output_type": "execute_result",
          "data": {
            "text/plain": [
              "         label        time                          date     query  \\\n",
              "1599994      4  2193601966  Tue Jun 16 08:40:49 PDT 2009  NO_QUERY   \n",
              "1599995      4  2193601969  Tue Jun 16 08:40:49 PDT 2009  NO_QUERY   \n",
              "1599996      4  2193601991  Tue Jun 16 08:40:49 PDT 2009  NO_QUERY   \n",
              "1599997      4  2193602064  Tue Jun 16 08:40:49 PDT 2009  NO_QUERY   \n",
              "1599998      4  2193602129  Tue Jun 16 08:40:50 PDT 2009  NO_QUERY   \n",
              "\n",
              "                username                                               text  \n",
              "1599994  AmandaMarie1028  Just woke up. Having no school is the best fee...  \n",
              "1599995      TheWDBoards  TheWDB.com - Very cool to hear old Walt interv...  \n",
              "1599996           bpbabe  Are you ready for your MoJo Makeover? Ask me f...  \n",
              "1599997     tinydiamondz  Happy 38th Birthday to my boo of alll time!!! ...  \n",
              "1599998   RyanTrevMorris  happy #charitytuesday @theNSPCC @SparksCharity...  "
            ],
            "text/html": [
              "\n",
              "  <div id=\"df-bca0e933-bc52-4646-9f05-2b36c68db61f\">\n",
              "    <div class=\"colab-df-container\">\n",
              "      <div>\n",
              "<style scoped>\n",
              "    .dataframe tbody tr th:only-of-type {\n",
              "        vertical-align: middle;\n",
              "    }\n",
              "\n",
              "    .dataframe tbody tr th {\n",
              "        vertical-align: top;\n",
              "    }\n",
              "\n",
              "    .dataframe thead th {\n",
              "        text-align: right;\n",
              "    }\n",
              "</style>\n",
              "<table border=\"1\" class=\"dataframe\">\n",
              "  <thead>\n",
              "    <tr style=\"text-align: right;\">\n",
              "      <th></th>\n",
              "      <th>label</th>\n",
              "      <th>time</th>\n",
              "      <th>date</th>\n",
              "      <th>query</th>\n",
              "      <th>username</th>\n",
              "      <th>text</th>\n",
              "    </tr>\n",
              "  </thead>\n",
              "  <tbody>\n",
              "    <tr>\n",
              "      <th>1599994</th>\n",
              "      <td>4</td>\n",
              "      <td>2193601966</td>\n",
              "      <td>Tue Jun 16 08:40:49 PDT 2009</td>\n",
              "      <td>NO_QUERY</td>\n",
              "      <td>AmandaMarie1028</td>\n",
              "      <td>Just woke up. Having no school is the best fee...</td>\n",
              "    </tr>\n",
              "    <tr>\n",
              "      <th>1599995</th>\n",
              "      <td>4</td>\n",
              "      <td>2193601969</td>\n",
              "      <td>Tue Jun 16 08:40:49 PDT 2009</td>\n",
              "      <td>NO_QUERY</td>\n",
              "      <td>TheWDBoards</td>\n",
              "      <td>TheWDB.com - Very cool to hear old Walt interv...</td>\n",
              "    </tr>\n",
              "    <tr>\n",
              "      <th>1599996</th>\n",
              "      <td>4</td>\n",
              "      <td>2193601991</td>\n",
              "      <td>Tue Jun 16 08:40:49 PDT 2009</td>\n",
              "      <td>NO_QUERY</td>\n",
              "      <td>bpbabe</td>\n",
              "      <td>Are you ready for your MoJo Makeover? Ask me f...</td>\n",
              "    </tr>\n",
              "    <tr>\n",
              "      <th>1599997</th>\n",
              "      <td>4</td>\n",
              "      <td>2193602064</td>\n",
              "      <td>Tue Jun 16 08:40:49 PDT 2009</td>\n",
              "      <td>NO_QUERY</td>\n",
              "      <td>tinydiamondz</td>\n",
              "      <td>Happy 38th Birthday to my boo of alll time!!! ...</td>\n",
              "    </tr>\n",
              "    <tr>\n",
              "      <th>1599998</th>\n",
              "      <td>4</td>\n",
              "      <td>2193602129</td>\n",
              "      <td>Tue Jun 16 08:40:50 PDT 2009</td>\n",
              "      <td>NO_QUERY</td>\n",
              "      <td>RyanTrevMorris</td>\n",
              "      <td>happy #charitytuesday @theNSPCC @SparksCharity...</td>\n",
              "    </tr>\n",
              "  </tbody>\n",
              "</table>\n",
              "</div>\n",
              "      <button class=\"colab-df-convert\" onclick=\"convertToInteractive('df-bca0e933-bc52-4646-9f05-2b36c68db61f')\"\n",
              "              title=\"Convert this dataframe to an interactive table.\"\n",
              "              style=\"display:none;\">\n",
              "        \n",
              "  <svg xmlns=\"http://www.w3.org/2000/svg\" height=\"24px\"viewBox=\"0 0 24 24\"\n",
              "       width=\"24px\">\n",
              "    <path d=\"M0 0h24v24H0V0z\" fill=\"none\"/>\n",
              "    <path d=\"M18.56 5.44l.94 2.06.94-2.06 2.06-.94-2.06-.94-.94-2.06-.94 2.06-2.06.94zm-11 1L8.5 8.5l.94-2.06 2.06-.94-2.06-.94L8.5 2.5l-.94 2.06-2.06.94zm10 10l.94 2.06.94-2.06 2.06-.94-2.06-.94-.94-2.06-.94 2.06-2.06.94z\"/><path d=\"M17.41 7.96l-1.37-1.37c-.4-.4-.92-.59-1.43-.59-.52 0-1.04.2-1.43.59L10.3 9.45l-7.72 7.72c-.78.78-.78 2.05 0 2.83L4 21.41c.39.39.9.59 1.41.59.51 0 1.02-.2 1.41-.59l7.78-7.78 2.81-2.81c.8-.78.8-2.07 0-2.86zM5.41 20L4 18.59l7.72-7.72 1.47 1.35L5.41 20z\"/>\n",
              "  </svg>\n",
              "      </button>\n",
              "      \n",
              "  <style>\n",
              "    .colab-df-container {\n",
              "      display:flex;\n",
              "      flex-wrap:wrap;\n",
              "      gap: 12px;\n",
              "    }\n",
              "\n",
              "    .colab-df-convert {\n",
              "      background-color: #E8F0FE;\n",
              "      border: none;\n",
              "      border-radius: 50%;\n",
              "      cursor: pointer;\n",
              "      display: none;\n",
              "      fill: #1967D2;\n",
              "      height: 32px;\n",
              "      padding: 0 0 0 0;\n",
              "      width: 32px;\n",
              "    }\n",
              "\n",
              "    .colab-df-convert:hover {\n",
              "      background-color: #E2EBFA;\n",
              "      box-shadow: 0px 1px 2px rgba(60, 64, 67, 0.3), 0px 1px 3px 1px rgba(60, 64, 67, 0.15);\n",
              "      fill: #174EA6;\n",
              "    }\n",
              "\n",
              "    [theme=dark] .colab-df-convert {\n",
              "      background-color: #3B4455;\n",
              "      fill: #D2E3FC;\n",
              "    }\n",
              "\n",
              "    [theme=dark] .colab-df-convert:hover {\n",
              "      background-color: #434B5C;\n",
              "      box-shadow: 0px 1px 3px 1px rgba(0, 0, 0, 0.15);\n",
              "      filter: drop-shadow(0px 1px 2px rgba(0, 0, 0, 0.3));\n",
              "      fill: #FFFFFF;\n",
              "    }\n",
              "  </style>\n",
              "\n",
              "      <script>\n",
              "        const buttonEl =\n",
              "          document.querySelector('#df-bca0e933-bc52-4646-9f05-2b36c68db61f button.colab-df-convert');\n",
              "        buttonEl.style.display =\n",
              "          google.colab.kernel.accessAllowed ? 'block' : 'none';\n",
              "\n",
              "        async function convertToInteractive(key) {\n",
              "          const element = document.querySelector('#df-bca0e933-bc52-4646-9f05-2b36c68db61f');\n",
              "          const dataTable =\n",
              "            await google.colab.kernel.invokeFunction('convertToInteractive',\n",
              "                                                     [key], {});\n",
              "          if (!dataTable) return;\n",
              "\n",
              "          const docLinkHtml = 'Like what you see? Visit the ' +\n",
              "            '<a target=\"_blank\" href=https://colab.research.google.com/notebooks/data_table.ipynb>data table notebook</a>'\n",
              "            + ' to learn more about interactive tables.';\n",
              "          element.innerHTML = '';\n",
              "          dataTable['output_type'] = 'display_data';\n",
              "          await google.colab.output.renderOutput(dataTable, element);\n",
              "          const docLink = document.createElement('div');\n",
              "          docLink.innerHTML = docLinkHtml;\n",
              "          element.appendChild(docLink);\n",
              "        }\n",
              "      </script>\n",
              "    </div>\n",
              "  </div>\n",
              "  "
            ]
          },
          "metadata": {},
          "execution_count": 7
        }
      ],
      "source": [
        "data.tail()"
      ],
      "id": "boolean-pittsburgh"
    },
    {
      "cell_type": "markdown",
      "metadata": {
        "id": "8EHM8fPVI5A3"
      },
      "source": [
        "**Observations:**</br>\n",
        "The DataFrame has 6 columns as mentioned in the Data Dictionary. Data in each row corresponds to the detail about tweet."
      ],
      "id": "8EHM8fPVI5A3"
    },
    {
      "cell_type": "markdown",
      "metadata": {
        "id": "NwhkiqR_J0nV"
      },
      "source": [
        "<div class=\"alert alert-block alert-danger\">  \n",
        "<h2><strong>Numbers of rows and columns present in data</strong></h2>\n",
        "        \n",
        "</div>"
      ],
      "id": "NwhkiqR_J0nV"
    },
    {
      "cell_type": "code",
      "execution_count": null,
      "metadata": {
        "colab": {
          "base_uri": "https://localhost:8080/"
        },
        "id": "painted-generator",
        "outputId": "d63718d4-90af-4248-ac82-e9e178e461ad"
      },
      "outputs": [
        {
          "output_type": "stream",
          "name": "stdout",
          "text": [
            "Count of rows in the data is:  1599999\n",
            "Count of columns in the data is:  6\n"
          ]
        },
        {
          "output_type": "execute_result",
          "data": {
            "text/plain": [
              "(1599999, 6)"
            ]
          },
          "metadata": {},
          "execution_count": 8
        }
      ],
      "source": [
        "print('Count of rows in the data is: ', len(data))\n",
        "print('Count of columns in the data is: ', len(data.columns))\n",
        "data.shape"
      ],
      "id": "painted-generator"
    },
    {
      "cell_type": "markdown",
      "metadata": {
        "id": "GGOF_5yKKXLT"
      },
      "source": [
        "**Observations:**</br> We have 1599999 rows and 6 columns in the data. The rows account for all the tweets processed"
      ],
      "id": "GGOF_5yKKXLT"
    },
    {
      "cell_type": "markdown",
      "metadata": {
        "id": "yZXnb-YQK-Yt"
      },
      "source": [
        "<div class=\"alert alert-block alert-danger\">  \n",
        "<h2><strong>Datatypes of the different columns in the dataset</strong></h2>\n",
        "        \n",
        "</div>"
      ],
      "id": "yZXnb-YQK-Yt"
    },
    {
      "cell_type": "code",
      "execution_count": null,
      "metadata": {
        "colab": {
          "base_uri": "https://localhost:8080/"
        },
        "id": "entitled-radius",
        "outputId": "c9ba2c67-352d-44d7-9962-cb71f748a1f0"
      },
      "outputs": [
        {
          "output_type": "stream",
          "name": "stdout",
          "text": [
            "<class 'pandas.core.frame.DataFrame'>\n",
            "RangeIndex: 1599999 entries, 0 to 1599998\n",
            "Data columns (total 6 columns):\n",
            " #   Column    Non-Null Count    Dtype \n",
            "---  ------    --------------    ----- \n",
            " 0   label     1599999 non-null  int64 \n",
            " 1   time      1599999 non-null  int64 \n",
            " 2   date      1599999 non-null  object\n",
            " 3   query     1599999 non-null  object\n",
            " 4   username  1599999 non-null  object\n",
            " 5   text      1599999 non-null  object\n",
            "dtypes: int64(2), object(4)\n",
            "memory usage: 73.2+ MB\n"
          ]
        }
      ],
      "source": [
        "data.info()"
      ],
      "id": "entitled-radius"
    },
    {
      "cell_type": "code",
      "execution_count": null,
      "metadata": {
        "colab": {
          "base_uri": "https://localhost:8080/"
        },
        "id": "stuffed-drain",
        "outputId": "6938e6de-523a-44e7-f387-49da4a83448e"
      },
      "outputs": [
        {
          "output_type": "execute_result",
          "data": {
            "text/plain": [
              "label        int64\n",
              "time         int64\n",
              "date        object\n",
              "query       object\n",
              "username    object\n",
              "text        object\n",
              "dtype: object"
            ]
          },
          "metadata": {},
          "execution_count": 10
        }
      ],
      "source": [
        "data.dtypes"
      ],
      "id": "stuffed-drain"
    },
    {
      "cell_type": "markdown",
      "metadata": {
        "id": "od2doPwMLQ0N"
      },
      "source": [
        "**Observations:**</br> We have 2 integers and 4 objects."
      ],
      "id": "od2doPwMLQ0N"
    },
    {
      "cell_type": "markdown",
      "metadata": {
        "id": "l6Hl7eRiL2Gf"
      },
      "source": [
        "<div class=\"alert alert-block alert-danger\">  \n",
        "<h2><strong>Checking Null values</strong></h2>\n",
        "        \n",
        "</div>"
      ],
      "id": "l6Hl7eRiL2Gf"
    },
    {
      "cell_type": "code",
      "execution_count": null,
      "metadata": {
        "colab": {
          "base_uri": "https://localhost:8080/"
        },
        "id": "engaging-industry",
        "outputId": "dcbce5ce-dc51-4acc-ad58-e521a8dbdae0",
        "scrolled": true
      },
      "outputs": [
        {
          "output_type": "execute_result",
          "data": {
            "text/plain": [
              "0"
            ]
          },
          "metadata": {},
          "execution_count": 11
        }
      ],
      "source": [
        "np.sum(data.isnull().any(axis=1))"
      ],
      "id": "engaging-industry"
    },
    {
      "cell_type": "markdown",
      "metadata": {
        "id": "uREB_w4DMHhd"
      },
      "source": [
        "**Observations:**</br> We don't have any null values."
      ],
      "id": "uREB_w4DMHhd"
    },
    {
      "cell_type": "markdown",
      "metadata": {
        "id": "_RMYzZcpPhpK"
      },
      "source": [
        "<div class=\"alert alert-block alert-danger\">  \n",
        "<h2><strong>Ploting Graphs on basis of provided observation</strong></h2>\n",
        "        \n",
        "</div>"
      ],
      "id": "_RMYzZcpPhpK"
    },
    {
      "cell_type": "code",
      "execution_count": null,
      "metadata": {
        "colab": {
          "base_uri": "https://localhost:8080/",
          "height": 547
        },
        "id": "a_nGlpJfOInX",
        "outputId": "efc290c5-2b8e-424c-f7aa-a826e6a92428"
      },
      "outputs": [
        {
          "output_type": "display_data",
          "data": {
            "text/plain": [
              "<Figure size 432x288 with 1 Axes>"
            ],
            "image/png": "[encoded data removed]"
          },
          "metadata": {
            "needs_background": "light"
          }
        },
        {
          "output_type": "display_data",
          "data": {
            "text/plain": [
              "<Figure size 432x288 with 1 Axes>"
            ],
            "image/png": "[encoded data removed]"
          },
          "metadata": {
            "needs_background": "light"
          }
        }
      ],
      "source": [
        "sns.histplot(data = data, x='time',bins = 10, stat = 'count',kde=True)\n",
        "plt.show()\n",
        "sns.boxplot(data = data, x='time')\n",
        "plt.show();"
      ],
      "id": "a_nGlpJfOInX"
    },
    {
      "cell_type": "markdown",
      "metadata": {
        "id": "iq0rPXDgQZVv"
      },
      "source": [
        "**Observations:**</br> The histplot and boxplot is skewed higher between 1.9 to 2.1 hence maximum number of tweets are done during that duration. "
      ],
      "id": "iq0rPXDgQZVv"
    },
    {
      "cell_type": "markdown",
      "metadata": {
        "id": "demonstrated-snake"
      },
      "source": [
        "<div class=\"alert alert-block alert-danger\">  \n",
        "<h1><strong>Data Preparation 📝</strong></h1>\n",
        "</div>\n"
      ],
      "id": "demonstrated-snake"
    },
    {
      "cell_type": "markdown",
      "metadata": {
        "id": "7_k2sC6WWc4u"
      },
      "source": [
        "<div class=\"alert alert-block alert-danger\">  \n",
        "<h2><strong>Selecting the text and label coloumn</strong></h2>\n",
        "        \n",
        "</div>"
      ],
      "id": "7_k2sC6WWc4u"
    },
    {
      "cell_type": "code",
      "execution_count": null,
      "metadata": {
        "id": "charged-stamp"
      },
      "outputs": [],
      "source": [
        "data=data[['text','label']]"
      ],
      "id": "charged-stamp"
    },
    {
      "cell_type": "markdown",
      "metadata": {
        "id": "KdKLlfHWbRx0"
      },
      "source": [
        "**Observations:**</br> Selected text and label column for further proccess."
      ],
      "id": "KdKLlfHWbRx0"
    },
    {
      "cell_type": "markdown",
      "metadata": {
        "id": "soviet-second"
      },
      "source": [
        "<div class=\"alert alert-block alert-danger\">  \n",
        "<h2><strong>Assigning 1 to Positive sentment 4</strong></h2>\n",
        "        \n",
        "</div>"
      ],
      "id": "soviet-second"
    },
    {
      "cell_type": "code",
      "execution_count": null,
      "metadata": {
        "id": "invalid-circular"
      },
      "outputs": [],
      "source": [
        "data['label'][data['label']==4]=1"
      ],
      "id": "invalid-circular"
    },
    {
      "cell_type": "markdown",
      "metadata": {
        "id": "ZfcJBYnLbkjv"
      },
      "source": [
        "**Observations:**</br> Assigned 1 to positive sentement 4. "
      ],
      "id": "ZfcJBYnLbkjv"
    },
    {
      "cell_type": "markdown",
      "metadata": {
        "id": "NnxTMtITWy0Y"
      },
      "source": [
        "<div class=\"alert alert-block alert-danger\">  \n",
        "<h2><strong>Separating positive and negative tweets</strong></h2></div>\n"
      ],
      "id": "NnxTMtITWy0Y"
    },
    {
      "cell_type": "code",
      "execution_count": null,
      "metadata": {
        "id": "wooden-procedure"
      },
      "outputs": [],
      "source": [
        "data_pos = data[data['label'] == 1]\n",
        "data_neg = data[data['label'] == 0]"
      ],
      "id": "wooden-procedure"
    },
    {
      "cell_type": "markdown",
      "metadata": {
        "id": "0D3rsj-wcs3s"
      },
      "source": [
        "**Observations:**</br> Storing positive tweets in data_pos and negative tweets in data_neg."
      ],
      "id": "0D3rsj-wcs3s"
    },
    {
      "cell_type": "markdown",
      "metadata": {
        "id": "MolWHLIiXIlT"
      },
      "source": [
        "<div class=\"alert alert-block alert-danger\">  \n",
        "<h2><strong>Taking one fourth data so we can run on our machine easily </strong></h2></div>"
      ],
      "id": "MolWHLIiXIlT"
    },
    {
      "cell_type": "code",
      "execution_count": null,
      "metadata": {
        "id": "proud-bibliography"
      },
      "outputs": [],
      "source": [
        "data_pos = data_pos.iloc[:int(20000)]\n",
        "data_neg = data_neg.iloc[:int(20000)]"
      ],
      "id": "proud-bibliography"
    },
    {
      "cell_type": "markdown",
      "metadata": {
        "id": "ockNgC9Nc6_Z"
      },
      "source": [
        "**Observations:**</br>Data has been converted to its one forth so that machine can run easily."
      ],
      "id": "ockNgC9Nc6_Z"
    },
    {
      "cell_type": "markdown",
      "metadata": {
        "id": "_fu1eX4bXSqA"
      },
      "source": [
        "<div class=\"alert alert-block alert-danger\">  \n",
        "<h2><strong>Combining positive and negative tweets</strong></h2></div>"
      ],
      "id": "_fu1eX4bXSqA"
    },
    {
      "cell_type": "code",
      "execution_count": null,
      "metadata": {
        "id": "intimate-butterfly"
      },
      "outputs": [],
      "source": [
        "data = pd.concat([data_pos, data_neg])"
      ],
      "id": "intimate-butterfly"
    },
    {
      "cell_type": "markdown",
      "metadata": {
        "id": "TZyWAIyVddlB"
      },
      "source": [
        "**Observations:**</br> Positive and Negative data is combined. "
      ],
      "id": "TZyWAIyVddlB"
    },
    {
      "cell_type": "markdown",
      "metadata": {
        "id": "SCN1xLKfXTX2"
      },
      "source": [
        "<div class=\"alert alert-block alert-danger\">  \n",
        "<h2><strong>Making statement text in lower case </strong></h2></div>"
      ],
      "id": "SCN1xLKfXTX2"
    },
    {
      "cell_type": "code",
      "execution_count": null,
      "metadata": {
        "id": "cutting-identity"
      },
      "outputs": [],
      "source": [
        "data['text']=data['text'].str.lower()"
      ],
      "id": "cutting-identity"
    },
    {
      "cell_type": "code",
      "execution_count": null,
      "metadata": {
        "colab": {
          "base_uri": "https://localhost:8080/"
        },
        "id": "medical-somalia",
        "outputId": "54bd314a-d7b3-4944-fc3f-7855c0f637cb"
      },
      "outputs": [
        {
          "output_type": "execute_result",
          "data": {
            "text/plain": [
              "19995                            one more day of holidays \n",
              "19996    feeling so down right now .. i hate you damn h...\n",
              "19997    geez,i hv to read the whole book of personalit...\n",
              "19998    i threw my sign at donnie and he bent over to ...\n",
              "19999    @heather2711 good thing i didn't find any then...\n",
              "Name: text, dtype: object"
            ]
          },
          "metadata": {},
          "execution_count": 19
        }
      ],
      "source": [
        "data['text'].tail()"
      ],
      "id": "medical-somalia"
    },
    {
      "cell_type": "markdown",
      "metadata": {
        "id": "ZdWDGeRvdrSV"
      },
      "source": [
        "**Observations:**</br> As you can see all sentements is converted into lower case."
      ],
      "id": "ZdWDGeRvdrSV"
    },
    {
      "cell_type": "markdown",
      "metadata": {
        "id": "AEhSMV7zXUNm"
      },
      "source": [
        "<div class=\"alert alert-block alert-danger\">  \n",
        "<h2><strong>Cleaning and removing Stop words of english</strong></h2></div>"
      ],
      "id": "AEhSMV7zXUNm"
    },
    {
      "cell_type": "code",
      "execution_count": null,
      "metadata": {
        "colab": {
          "base_uri": "https://localhost:8080/"
        },
        "id": "boring-selling",
        "outputId": "5e02ae6c-a2e5-469b-bd6b-b817d6c20ad6"
      },
      "outputs": [
        {
          "output_type": "stream",
          "name": "stderr",
          "text": [
            "[nltk_data] Downloading package stopwords to /root/nltk_data...\n",
            "[nltk_data]   Unzipping corpora/stopwords.zip.\n"
          ]
        }
      ],
      "source": [
        "nltk.download('stopwords')\n",
        "stopwords_list = stopwords.words('english')"
      ],
      "id": "boring-selling"
    },
    {
      "cell_type": "markdown",
      "metadata": {
        "id": "qj1e76OYd6Th"
      },
      "source": [
        "**Observations:**</br> Created stopwords list."
      ],
      "id": "qj1e76OYd6Th"
    },
    {
      "cell_type": "code",
      "execution_count": null,
      "metadata": {
        "colab": {
          "base_uri": "https://localhost:8080/",
          "height": 174
        },
        "id": "selected-cooperative",
        "outputId": "cd77a45e-0921-43a7-8365-a66971ca7528"
      },
      "outputs": [
        {
          "output_type": "execute_result",
          "data": {
            "text/plain": [
              "\"i, me, my, myself, we, our, ours, ourselves, you, you're, you've, you'll, you'd, your, yours, yourself, yourselves, he, him, his, himself, she, she's, her, hers, herself, it, it's, its, itself, they, them, their, theirs, themselves, what, which, who, whom, this, that, that'll, these, those, am, is, are, was, were, be, been, being, have, has, had, having, do, does, did, doing, a, an, the, and, but, if, or, because, as, until, while, of, at, by, for, with, about, against, between, into, through, during, before, after, above, below, to, from, up, down, in, out, on, off, over, under, again, further, then, once, here, there, when, where, why, how, all, any, both, each, few, more, most, other, some, such, no, nor, not, only, own, same, so, than, too, very, s, t, can, will, just, don, don't, should, should've, now, d, ll, m, o, re, ve, y, ain, aren, aren't, couldn, couldn't, didn, didn't, doesn, doesn't, hadn, hadn't, hasn, hasn't, haven, haven't, isn, isn't, ma, mightn, mightn't, mustn, mustn't, needn, needn't, shan, shan't, shouldn, shouldn't, wasn, wasn't, weren, weren't, won, won't, wouldn, wouldn't\""
            ],
            "application/vnd.google.colaboratory.intrinsic+json": {
              "type": "string"
            }
          },
          "metadata": {},
          "execution_count": 21
        }
      ],
      "source": [
        "from nltk.corpus import stopwords\n",
        "\", \".join(stopwords.words('english'))"
      ],
      "id": "selected-cooperative"
    },
    {
      "cell_type": "markdown",
      "metadata": {
        "id": "ylGxxl_teGGX"
      },
      "source": [
        "**Observations:**</br> All the stopwords which are imported are joined using \" , \"."
      ],
      "id": "ylGxxl_teGGX"
    },
    {
      "cell_type": "markdown",
      "metadata": {
        "id": "LUfWxsBsXVAq"
      },
      "source": [
        "<div class=\"alert alert-block alert-danger\">  \n",
        "<h2><strong>Cleaning and removing the above stop words list from the tweet text</strong></h2></div>"
      ],
      "id": "LUfWxsBsXVAq"
    },
    {
      "cell_type": "code",
      "execution_count": null,
      "metadata": {
        "colab": {
          "base_uri": "https://localhost:8080/"
        },
        "id": "removable-tiger",
        "outputId": "efebf02b-463f-468b-d114-831d88f1fd41"
      },
      "outputs": [
        {
          "output_type": "execute_result",
          "data": {
            "text/plain": [
              "799999                love @health4uandpets u guys r best!!\n",
              "800000    im meeting one besties tonight! cant wait!! - ...\n",
              "800001    @darealsunisakim thanks twitter add, sunisa! g...\n",
              "800002    sick really cheap hurts much eat real food plu...\n",
              "800003                      @lovesbrooklyn2 effect everyone\n",
              "Name: text, dtype: object"
            ]
          },
          "metadata": {},
          "execution_count": 22
        }
      ],
      "source": [
        "STOPWORDS = set(stopwords.words('english'))\n",
        "def cleaning_stopwords(text):\n",
        "    return \" \".join([word for word in str(text).split() if word not in STOPWORDS])\n",
        "data['text'] = data['text'].apply(lambda text: cleaning_stopwords(text))\n",
        "data['text'].head()"
      ],
      "id": "removable-tiger"
    },
    {
      "cell_type": "markdown",
      "metadata": {
        "id": "ourycmuDezxP"
      },
      "source": [
        "**Observations:**</br> Stopwords from the sentiments has been removed."
      ],
      "id": "ourycmuDezxP"
    },
    {
      "cell_type": "markdown",
      "metadata": {
        "id": "KCWVDxCIXVhD"
      },
      "source": [
        "<div class=\"alert alert-block alert-danger\">  \n",
        "<h2><strong>Cleaning and removing punctuations  </strong></h2></div>"
      ],
      "id": "KCWVDxCIXVhD"
    },
    {
      "cell_type": "code",
      "execution_count": null,
      "metadata": {
        "id": "classical-daily"
      },
      "outputs": [],
      "source": [
        "english_punctuations = string.punctuation\n",
        "punctuations_list = english_punctuations\n",
        "def cleaning_punctuations(text):\n",
        "    translator = str.maketrans('', '', punctuations_list)\n",
        "    return text.translate(translator)"
      ],
      "id": "classical-daily"
    },
    {
      "cell_type": "code",
      "execution_count": null,
      "metadata": {
        "colab": {
          "base_uri": "https://localhost:8080/"
        },
        "id": "classified-construction",
        "outputId": "c30e9e6e-8adc-4bba-fead-daa6ad1a3fa2"
      },
      "outputs": [
        {
          "output_type": "execute_result",
          "data": {
            "text/plain": [
              "19995                                     one day holidays\n",
              "19996                     feeling right  hate damn humprey\n",
              "19997    geezi hv read whole book personality types emb...\n",
              "19998     threw sign donnie bent get thingee made sad face\n",
              "19999    heather2711 good thing find none ones like com...\n",
              "Name: text, dtype: object"
            ]
          },
          "metadata": {},
          "execution_count": 24
        }
      ],
      "source": [
        "data['text']= data['text'].apply(lambda x: cleaning_punctuations(x))\n",
        "data['text'].tail()"
      ],
      "id": "classified-construction"
    },
    {
      "cell_type": "markdown",
      "metadata": {
        "id": "5Y250r3AfFZC"
      },
      "source": [
        "**Observations:**</br> All the punctuations has been removed from the sentiments."
      ],
      "id": "5Y250r3AfFZC"
    },
    {
      "cell_type": "markdown",
      "metadata": {
        "id": "acz5IwqKXW5X"
      },
      "source": [
        "<div class=\"alert alert-block alert-danger\">  \n",
        "<h2><strong>Cleaning and removing repeating characters </strong></h2></div>"
      ],
      "id": "acz5IwqKXW5X"
    },
    {
      "cell_type": "code",
      "execution_count": null,
      "metadata": {
        "id": "overall-plate"
      },
      "outputs": [],
      "source": [
        "def cleaning_repeating_char(text):\n",
        "    return re.sub(r'(.)\\1+', r'\\1', text)"
      ],
      "id": "overall-plate"
    },
    {
      "cell_type": "code",
      "execution_count": null,
      "metadata": {
        "colab": {
          "base_uri": "https://localhost:8080/"
        },
        "id": "spanish-delta",
        "outputId": "dabdda5d-bc18-4a15-864d-ddcc062908c0"
      },
      "outputs": [
        {
          "output_type": "execute_result",
          "data": {
            "text/plain": [
              "19995                                     one day holidays\n",
              "19996                       feling right hate damn humprey\n",
              "19997    gezi hv read whole bok personality types embar...\n",
              "19998       threw sign donie bent get thinge made sad face\n",
              "19999    heather271 god thing find none ones like come ...\n",
              "Name: text, dtype: object"
            ]
          },
          "metadata": {},
          "execution_count": 26
        }
      ],
      "source": [
        "data['text'] = data['text'].apply(lambda x: cleaning_repeating_char(x))\n",
        "data['text'].tail()"
      ],
      "id": "spanish-delta"
    },
    {
      "cell_type": "markdown",
      "metadata": {
        "id": "UJhhpcGJfSLt"
      },
      "source": [
        "**Observations:**</br> Repeated characters has been removed from sentements."
      ],
      "id": "UJhhpcGJfSLt"
    },
    {
      "cell_type": "markdown",
      "metadata": {
        "id": "D-MRDZIHXXfw"
      },
      "source": [
        "<div class=\"alert alert-block alert-danger\">  \n",
        "<h2><strong>Cleaning and removing email </strong></h2></div>"
      ],
      "id": "D-MRDZIHXXfw"
    },
    {
      "cell_type": "code",
      "execution_count": null,
      "metadata": {
        "id": "ahead-bathroom"
      },
      "outputs": [],
      "source": [
        "def cleaning_email(data):\n",
        "    return re.sub('@[^\\s]+', ' ', data)"
      ],
      "id": "ahead-bathroom"
    },
    {
      "cell_type": "code",
      "execution_count": null,
      "metadata": {
        "colab": {
          "base_uri": "https://localhost:8080/"
        },
        "id": "aquatic-collect",
        "outputId": "2554528d-c0a4-458f-cf52-3e0261b293e7"
      },
      "outputs": [
        {
          "output_type": "execute_result",
          "data": {
            "text/plain": [
              "19995                                     one day holidays\n",
              "19996                       feling right hate damn humprey\n",
              "19997    gezi hv read whole bok personality types embar...\n",
              "19998       threw sign donie bent get thinge made sad face\n",
              "19999    heather271 god thing find none ones like come ...\n",
              "Name: text, dtype: object"
            ]
          },
          "metadata": {},
          "execution_count": 28
        }
      ],
      "source": [
        "data['text']= data['text'].apply(lambda x: cleaning_email(x))\n",
        "data['text'].tail()"
      ],
      "id": "aquatic-collect"
    },
    {
      "cell_type": "markdown",
      "metadata": {
        "id": "eM-GxqBefhzE"
      },
      "source": [
        "**Observations:**</br>E-Mails has been removed from sentements."
      ],
      "id": "eM-GxqBefhzE"
    },
    {
      "cell_type": "markdown",
      "metadata": {
        "id": "YpwxpNDrXYOj"
      },
      "source": [
        "<div class=\"alert alert-block alert-danger\">  \n",
        "<h2><strong>Cleaning and removing URL's </strong></h2></div>"
      ],
      "id": "YpwxpNDrXYOj"
    },
    {
      "cell_type": "code",
      "execution_count": null,
      "metadata": {
        "id": "jewish-stopping"
      },
      "outputs": [],
      "source": [
        "def cleaning_URLs(data):\n",
        "    return re.sub('((www\\.[^\\s]+)|(https?://[^\\s]+))',' ',data)"
      ],
      "id": "jewish-stopping"
    },
    {
      "cell_type": "code",
      "execution_count": null,
      "metadata": {
        "colab": {
          "base_uri": "https://localhost:8080/"
        },
        "id": "vocal-hanging",
        "outputId": "98aa1c0d-70b1-40ec-9aca-69047cdd23f3"
      },
      "outputs": [
        {
          "output_type": "execute_result",
          "data": {
            "text/plain": [
              "19995                                     one day holidays\n",
              "19996                       feling right hate damn humprey\n",
              "19997    gezi hv read whole bok personality types embar...\n",
              "19998       threw sign donie bent get thinge made sad face\n",
              "19999    heather271 god thing find none ones like come ...\n",
              "Name: text, dtype: object"
            ]
          },
          "metadata": {},
          "execution_count": 30
        }
      ],
      "source": [
        "data['text'] = data['text'].apply(lambda x: cleaning_URLs(x))\n",
        "data['text'].tail()"
      ],
      "id": "vocal-hanging"
    },
    {
      "cell_type": "markdown",
      "metadata": {
        "id": "5ZYSIKb0fsMZ"
      },
      "source": [
        "**Observations:**</br> URLs has been removed from sentements."
      ],
      "id": "5ZYSIKb0fsMZ"
    },
    {
      "cell_type": "markdown",
      "metadata": {
        "id": "dI4kt4_sXZ0W"
      },
      "source": [
        "<div class=\"alert alert-block alert-danger\">  \n",
        "<h2><strong> Cleaning and removing Numeric numbers </strong></h2></div>"
      ],
      "id": "dI4kt4_sXZ0W"
    },
    {
      "cell_type": "code",
      "execution_count": null,
      "metadata": {
        "id": "boolean-insulin"
      },
      "outputs": [],
      "source": [
        "def cleaning_numbers(data):\n",
        "    return re.sub('[0-9]+', '', data)"
      ],
      "id": "boolean-insulin"
    },
    {
      "cell_type": "code",
      "execution_count": null,
      "metadata": {
        "colab": {
          "base_uri": "https://localhost:8080/"
        },
        "id": "confidential-reform",
        "outputId": "83d12665-4d74-4fb3-dd41-76e8a8e1ed86"
      },
      "outputs": [
        {
          "output_type": "execute_result",
          "data": {
            "text/plain": [
              "19995                                     one day holidays\n",
              "19996                       feling right hate damn humprey\n",
              "19997    gezi hv read whole bok personality types embar...\n",
              "19998       threw sign donie bent get thinge made sad face\n",
              "19999    heather god thing find none ones like come siz...\n",
              "Name: text, dtype: object"
            ]
          },
          "metadata": {},
          "execution_count": 32
        }
      ],
      "source": [
        "data['text'] = data['text'].apply(lambda x: cleaning_numbers(x))\n",
        "data['text'].tail()"
      ],
      "id": "confidential-reform"
    },
    {
      "cell_type": "markdown",
      "metadata": {
        "id": "inRby1p9fy43"
      },
      "source": [
        "**Observations:**</br>Numeric Numbers has been removed from sentements."
      ],
      "id": "inRby1p9fy43"
    },
    {
      "cell_type": "markdown",
      "metadata": {
        "id": "9hHWY_QsXdY8"
      },
      "source": [
        "<div class=\"alert alert-block alert-danger\">  \n",
        "<h2><strong>Getting tokenization of tweet text </strong></h2></div>"
      ],
      "id": "9hHWY_QsXdY8"
    },
    {
      "cell_type": "code",
      "execution_count": null,
      "metadata": {
        "id": "removed-shopper"
      },
      "outputs": [],
      "source": [
        "tokenizer = RegexpTokenizer(r'\\w+')\n",
        "data['text'] = data['text'].apply(tokenizer.tokenize)"
      ],
      "id": "removed-shopper"
    },
    {
      "cell_type": "code",
      "execution_count": null,
      "metadata": {
        "colab": {
          "base_uri": "https://localhost:8080/"
        },
        "id": "multiple-arctic",
        "outputId": "ce1d666a-d51b-4ca1-8a14-5a34255e73f2"
      },
      "outputs": [
        {
          "output_type": "execute_result",
          "data": {
            "text/plain": [
              "799999             [love, healthuandpets, u, guys, r, best]\n",
              "800000    [im, meting, one, besties, tonight, cant, wait...\n",
              "800001    [darealsunisakim, thanks, twiter, ad, sunisa, ...\n",
              "800002    [sick, realy, cheap, hurts, much, eat, real, f...\n",
              "800003                      [lovesbroklyn, efect, everyone]\n",
              "Name: text, dtype: object"
            ]
          },
          "metadata": {},
          "execution_count": 34
        }
      ],
      "source": [
        "data['text'].head()"
      ],
      "id": "multiple-arctic"
    },
    {
      "cell_type": "markdown",
      "metadata": {
        "id": "XkPKArZyf6af"
      },
      "source": [
        "**Observations:**</br>Tokenizer has been applied to the sentements."
      ],
      "id": "XkPKArZyf6af"
    },
    {
      "cell_type": "markdown",
      "metadata": {
        "id": "Ja5fEgvLXeFg"
      },
      "source": [
        "<div class=\"alert alert-block alert-danger\">  \n",
        "<h2><strong> Applying Stemming</strong></h2>\n",
        "<img src=\"https://lh3.googleusercontent.com/3wumK8lGLhKpD2Fhbu35I7wWf6OSpF_erX9T7FX9WQCE5_HBKMJpKOZNximlzlTG5882QUWcL-_lFLJd0-RIo4uHDaO7cK8aEnw2Tm2-5xPwjYS3ls6fYefeGAVGb1WUGrXafJrC\"> </img>\n",
        "</div>\n"
      ],
      "id": "Ja5fEgvLXeFg"
    },
    {
      "cell_type": "code",
      "execution_count": null,
      "metadata": {
        "id": "interior-andrew"
      },
      "outputs": [],
      "source": [
        "st = nltk.PorterStemmer()\n",
        "def stemming_on_text(data):\n",
        "    text = [st.stem(word) for word in data]\n",
        "    return data\n",
        "\n",
        "data['text']= data['text'].apply(lambda x: stemming_on_text(x))"
      ],
      "id": "interior-andrew"
    },
    {
      "cell_type": "code",
      "execution_count": null,
      "metadata": {
        "colab": {
          "base_uri": "https://localhost:8080/"
        },
        "id": "light-meeting",
        "outputId": "109a3dec-fab7-4ec8-efe0-abce7f1f9c85"
      },
      "outputs": [
        {
          "output_type": "execute_result",
          "data": {
            "text/plain": [
              "799999             [love, healthuandpets, u, guys, r, best]\n",
              "800000    [im, meting, one, besties, tonight, cant, wait...\n",
              "800001    [darealsunisakim, thanks, twiter, ad, sunisa, ...\n",
              "800002    [sick, realy, cheap, hurts, much, eat, real, f...\n",
              "800003                      [lovesbroklyn, efect, everyone]\n",
              "Name: text, dtype: object"
            ]
          },
          "metadata": {},
          "execution_count": 36
        }
      ],
      "source": [
        "data['text'].head()"
      ],
      "id": "light-meeting"
    },
    {
      "cell_type": "markdown",
      "metadata": {
        "id": "rCr7Ew_EgSDA"
      },
      "source": [
        "**Observations:**</br>Stemming has been applied to the sentements."
      ],
      "id": "rCr7Ew_EgSDA"
    },
    {
      "cell_type": "markdown",
      "metadata": {
        "id": "9OProBuVX0Z8"
      },
      "source": [
        "<div class=\"alert alert-block alert-danger\">  \n",
        "<h2><strong>Applying Lemmatizer</strong></h2></div>"
      ],
      "id": "9OProBuVX0Z8"
    },
    {
      "cell_type": "code",
      "execution_count": null,
      "metadata": {
        "colab": {
          "base_uri": "https://localhost:8080/"
        },
        "id": "passing-sugar",
        "outputId": "1937ef0d-b124-4d60-9995-94bf1c010aa5"
      },
      "outputs": [
        {
          "output_type": "stream",
          "name": "stderr",
          "text": [
            "[nltk_data] Downloading package wordnet to /root/nltk_data...\n",
            "[nltk_data] Downloading package omw-1.4 to /root/nltk_data...\n"
          ]
        }
      ],
      "source": [
        "nltk.download('wordnet')\n",
        "nltk.download('omw-1.4')\n",
        "lm = nltk.WordNetLemmatizer()\n",
        "def lemmatizer_on_text(data):\n",
        "    text = [lm.lemmatize(word) for word in data]\n",
        "    return data\n",
        "\n",
        "data['text'] = data['text'].apply(lambda x: lemmatizer_on_text(x))"
      ],
      "id": "passing-sugar"
    },
    {
      "cell_type": "code",
      "execution_count": null,
      "metadata": {
        "colab": {
          "base_uri": "https://localhost:8080/"
        },
        "id": "informative-relevance",
        "outputId": "8be3896a-efd0-413f-cde4-368c60643215"
      },
      "outputs": [
        {
          "output_type": "execute_result",
          "data": {
            "text/plain": [
              "799999             [love, healthuandpets, u, guys, r, best]\n",
              "800000    [im, meting, one, besties, tonight, cant, wait...\n",
              "800001    [darealsunisakim, thanks, twiter, ad, sunisa, ...\n",
              "800002    [sick, realy, cheap, hurts, much, eat, real, f...\n",
              "800003                      [lovesbroklyn, efect, everyone]\n",
              "Name: text, dtype: object"
            ]
          },
          "metadata": {},
          "execution_count": 38
        }
      ],
      "source": [
        "data['text'].head()"
      ],
      "id": "informative-relevance"
    },
    {
      "cell_type": "markdown",
      "metadata": {
        "id": "-69poXR7gZX7"
      },
      "source": [
        "**Observations:**</br>Lemmatization has been applied to the sentements."
      ],
      "id": "-69poXR7gZX7"
    },
    {
      "cell_type": "markdown",
      "metadata": {
        "id": "intended-method"
      },
      "source": [
        "<b> <h3> Labels : </h3></b>  labels are the targets like in this project senitments of the tweets are labels. "
      ],
      "id": "intended-method"
    },
    {
      "cell_type": "markdown",
      "metadata": {
        "id": "renewable-juvenile"
      },
      "source": [
        "<b> <h3> Inputs : </h3></b>  Inputs are the data that we feed into machine learning like in this project tweets texts are the inputs. "
      ],
      "id": "renewable-juvenile"
    },
    {
      "cell_type": "markdown",
      "metadata": {
        "id": "disabled-funds"
      },
      "source": [
        "<b> <h3> Training Data </h3></b>  We use training data when we train the models. We feed train data to machine learning and deep learning models so that model can learn from the data."
      ],
      "id": "disabled-funds"
    },
    {
      "cell_type": "markdown",
      "metadata": {
        "id": "involved-parker"
      },
      "source": [
        "<b> <h3> Validation Data </h3></b>  We use validation data while training the model. We use this data to evalaute the performance that how the model perform on training time."
      ],
      "id": "involved-parker"
    },
    {
      "cell_type": "markdown",
      "metadata": {
        "id": "tough-mapping"
      },
      "source": [
        "<b> <h3> Testing Data </h3></b>  We use testing data after training the model. We use this data to evalaute the performance that how the model perform after training. So in this way first we get predictions from the trained model without giving the labels and then we compare the true labels with predictions and get the performance of th model.."
      ],
      "id": "tough-mapping"
    },
    {
      "cell_type": "markdown",
      "metadata": {
        "id": "yevuFjyuZ1py"
      },
      "source": [
        "<div class=\"alert alert-block alert-danger\">  \n",
        "<h2><strong>Separating input feature and label </strong></h2></div>"
      ],
      "id": "yevuFjyuZ1py"
    },
    {
      "cell_type": "code",
      "execution_count": null,
      "metadata": {
        "id": "applicable-trinity"
      },
      "outputs": [],
      "source": [
        "X=data.text\n",
        "y=data.label"
      ],
      "id": "applicable-trinity"
    },
    {
      "cell_type": "markdown",
      "metadata": {
        "id": "vh0kMD4GgjW_"
      },
      "source": [
        "**Observations:**</br>Input features and labels have been seperated respectively using x and y."
      ],
      "id": "vh0kMD4GgjW_"
    },
    {
      "cell_type": "markdown",
      "metadata": {
        "id": "KDIaiFC5Z5H-"
      },
      "source": [
        "<div class=\"alert alert-block alert-danger\">  \n",
        "<h2><strong>Preparing the input features for training</strong></h2>\n",
        "<ul>\n",
        "<li>We converting the text words into arrays form.</li>\n",
        "<li>Maximum 500 features/words selected for training. These 500 words will be selected on the importance that will distinguish between the positive tweets and negative tweets.</li>\n",
        "</ul>\n",
        "</div>"
      ],
      "id": "KDIaiFC5Z5H-"
    },
    {
      "cell_type": "code",
      "execution_count": null,
      "metadata": {
        "id": "clinical-gather"
      },
      "outputs": [],
      "source": [
        "max_len = 500\n",
        "tok = Tokenizer(num_words=2000)\n",
        "tok.fit_on_texts(X)\n",
        "sequences = tok.texts_to_sequences(X)\n",
        "sequences_matrix = sequence.pad_sequences(sequences,maxlen=max_len)"
      ],
      "id": "clinical-gather"
    },
    {
      "cell_type": "markdown",
      "metadata": {
        "id": "YIoQbTDfg9vy"
      },
      "source": [
        "**Observations:**</br>Features/Words are converted in the form of array."
      ],
      "id": "YIoQbTDfg9vy"
    },
    {
      "cell_type": "code",
      "execution_count": null,
      "metadata": {
        "colab": {
          "base_uri": "https://localhost:8080/"
        },
        "id": "massive-italic",
        "outputId": "920d0f8d-c89f-4312-e7c3-dd9e6d2a1fc8"
      },
      "outputs": [
        {
          "output_type": "execute_result",
          "data": {
            "text/plain": [
              "(40000, 500)"
            ]
          },
          "metadata": {},
          "execution_count": 41
        }
      ],
      "source": [
        "sequences_matrix.shape"
      ],
      "id": "massive-italic"
    },
    {
      "cell_type": "markdown",
      "metadata": {
        "id": "engaging-strengthening"
      },
      "source": [
        "**Observations:**</br>As we can see that there total 40000 tweets and the number words/features are 500."
      ],
      "id": "engaging-strengthening"
    },
    {
      "cell_type": "markdown",
      "metadata": {
        "id": "bNs0noLaaL6U"
      },
      "source": [
        "<div class=\"alert alert-block alert-danger\">  \n",
        "<h2><strong>Separating the 70% data for training data and 30% for testing data</strong></h2></div>"
      ],
      "id": "bNs0noLaaL6U"
    },
    {
      "cell_type": "markdown",
      "metadata": {
        "id": "floating-netherlands"
      },
      "source": [
        "<h4> Step 1</h4>\n",
        "- The input to model is 500 words because these are the number features/words that we extracted above from text of tweets.\n",
        "\n",
        "<h4> Step 2</h4>\n",
        "- Embeddings provide the presentation of words and their relative meanings. Like in this, we are feeding the limit of maximum words, lenght of input words and the inputs of previous layer. \n",
        "\n",
        "<h4> Step 3</h4>\n",
        "- LSTM (long short term memory) save the words and predict the next words based on the previous words. LSTM is a sequance predictor of next coming words.\n",
        "\n",
        "\n",
        "<h4> Step 4</h4>\n",
        "- Dense layer reduce the outputs by getting inputs from Faltten layer. Dense layer use all the inputs of previous layer neurons and perform calculations and send 256 outputs\n",
        "\n",
        "<h4> Step 5</h4>\n",
        "- Activation function is node that is put at the end of all layers of neural network model or in between neural network layers. Activation function help to decide which neuron should be pass and which neuron should fire. So activation function of node defines the output of that node given an input or set of inputs. \n",
        "\n",
        "\n",
        "<h4> Step 6</h4>\n",
        "- Droupout layer drop some neurons from previous layers. why we apply this? We apply this to avoid the overfitting problems. In overfitting, model give good accuracy on training time but not good on testing time.\n"
      ],
      "id": "floating-netherlands"
    },
    {
      "cell_type": "code",
      "execution_count": null,
      "metadata": {
        "id": "binary-ready"
      },
      "outputs": [],
      "source": [
        "X_train, X_test, Y_train, Y_test = train_test_split(sequences_matrix, y, test_size=0.3, random_state=2)"
      ],
      "id": "binary-ready"
    },
    {
      "cell_type": "markdown",
      "metadata": {
        "id": "arctic-aside"
      },
      "source": [
        "**Observations:**</br>Tweets has been divided into two parts :\n",
        "*   70% tweets will be used in the training \n",
        "*   30% tweets will be used to test the performance of the model.\n",
        "\n",
        "\n"
      ],
      "id": "arctic-aside"
    },
    {
      "cell_type": "markdown",
      "metadata": {
        "id": "stupid-parker"
      },
      "source": [
        "<div class=\"alert alert-block alert-danger\">  \n",
        "<h2><strong>Implementing Tensorflow based model for training 🧪</strong></h2>   \n",
        "</div>"
      ],
      "id": "stupid-parker"
    },
    {
      "cell_type": "code",
      "execution_count": null,
      "metadata": {
        "id": "packed-album"
      },
      "outputs": [],
      "source": [
        "def tensorflow_based_model(): #Defined tensorflow_based_model function for training tenforflow based model\n",
        "    inputs = Input(name='inputs',shape=[max_len])#step1\n",
        "    layer = Embedding(2000,50,input_length=max_len)(inputs) #step2\n",
        "    layer = LSTM(64)(layer) #step3\n",
        "    layer = Dense(256,name='FC1')(layer) #step4\n",
        "    layer = Activation('relu')(layer) # step5\n",
        "    layer = Dropout(0.5)(layer) # step6\n",
        "    layer = Dense(1,name='out_layer')(layer) #step4 again but this time its giving only one output as because we need to classify the tweet as positive or negative\n",
        "    layer = Activation('sigmoid')(layer) #step5 but this time activation function is sigmoid for only one output.\n",
        "    model = Model(inputs=inputs,outputs=layer) #here we are getting the final output value in the model for classification\n",
        "    return model #function returning the value when we call it"
      ],
      "id": "packed-album"
    },
    {
      "cell_type": "markdown",
      "metadata": {
        "id": "HbFa52yXvw2O"
      },
      "source": [
        "**Observations:**</br>Tensorflow based model has been implemented for training."
      ],
      "id": "HbFa52yXvw2O"
    },
    {
      "cell_type": "markdown",
      "metadata": {
        "id": "ZhT3MXgbwKpm"
      },
      "source": [
        "<div class=\"alert alert-block alert-danger\">  \n",
        "<h2><strong>Model compilation</strong></h2>   \n",
        "</div>"
      ],
      "id": "ZhT3MXgbwKpm"
    },
    {
      "cell_type": "markdown",
      "metadata": {
        "id": "right-advocate"
      },
      "source": [
        "- First we are calling the model\n",
        "- We are using 2 classes so we set \"binary_crossentropy\" and if we use more than two classes then we use \"categorical_crossentropy\" \n",
        "- Optimizer is a function that used to change the features of neural network such as learning rate (how the model learn with features) in order to reduce the losses. So the learning rate of neural network to reduce the losses is defined by optimizer.\n",
        "- We are setting metrics=accuracy because we are going to caluclate the percentage of correct predictions over all predictions on the validation set"
      ],
      "id": "right-advocate"
    },
    {
      "cell_type": "code",
      "execution_count": null,
      "metadata": {
        "id": "italic-reconstruction"
      },
      "outputs": [],
      "source": [
        "model = tensorflow_based_model() # here we are calling the function of created model\n",
        "model.compile(loss='binary_crossentropy',optimizer=RMSprop(),metrics=['accuracy'])  "
      ],
      "id": "italic-reconstruction"
    },
    {
      "cell_type": "markdown",
      "metadata": {
        "id": "w5gVIwZZwv6D"
      },
      "source": [
        "**Observation :** \n",
        "</br>\n",
        "For correct prediction we have set the accuracy of metrics and compiled model."
      ],
      "id": "w5gVIwZZwv6D"
    },
    {
      "cell_type": "markdown",
      "metadata": {
        "id": "consolidated-curtis"
      },
      "source": [
        "<div class=\"alert alert-block alert-danger\">  \n",
        "<h2><strong>Training and validating with parameter tuning</strong></h2>   \n",
        "</div>\n",
        "\n",
        "- We are feeding the training data and getting 10% data for validation from training data\n",
        "* We set the following parameters:\n",
        "- Batch size =80 so the model take 80 tweets in each iteration and train them. Batch size is a term used in machine learning and refers to the number of training examples utilized in one iteration. \n",
        "- Epochs =6 so the model will train on the data 6 times.Epoch is a term used in machine learning and indicates the number of passes of the entire training dataset the machine learning algorithm has completed. \n",
        "- We can choose batch_size, and epochs as we want so the good practice is to set some values and train the model if the model will not give the good results we can change it and then try again for the training of the model. We can repeat this process many time untill we will not get the good results and this process called as parameter tuning.\n"
      ],
      "id": "consolidated-curtis"
    },
    {
      "cell_type": "code",
      "execution_count": null,
      "metadata": {
        "colab": {
          "base_uri": "https://localhost:8080/"
        },
        "id": "metric-stereo",
        "outputId": "4e8d2bdf-aa59-4f31-8ddb-fa4dc3d38b0a"
      },
      "outputs": [
        {
          "output_type": "stream",
          "name": "stdout",
          "text": [
            "Epoch 1/6\n",
            "315/315 [==============================] - 75s 232ms/step - loss: 0.5740 - accuracy: 0.6963 - val_loss: 0.5186 - val_accuracy: 0.7396\n",
            "Epoch 2/6\n",
            "315/315 [==============================] - 74s 236ms/step - loss: 0.5775 - accuracy: 0.7136 - val_loss: 0.5363 - val_accuracy: 0.7382\n",
            "Epoch 3/6\n",
            "315/315 [==============================] - 75s 237ms/step - loss: 0.4912 - accuracy: 0.7646 - val_loss: 0.5141 - val_accuracy: 0.7414\n",
            "Epoch 4/6\n",
            "315/315 [==============================] - 74s 236ms/step - loss: 0.4849 - accuracy: 0.7673 - val_loss: 0.5231 - val_accuracy: 0.7432\n",
            "Epoch 5/6\n",
            "315/315 [==============================] - 74s 236ms/step - loss: 0.4872 - accuracy: 0.7673 - val_loss: 0.5255 - val_accuracy: 0.7471\n",
            "Epoch 6/6\n",
            "315/315 [==============================] - 75s 237ms/step - loss: 0.4586 - accuracy: 0.7802 - val_loss: 0.5330 - val_accuracy: 0.7404\n",
            "Training finished !!\n"
          ]
        }
      ],
      "source": [
        "history=model.fit(X_train,Y_train,batch_size=80,epochs=6, validation_split=0.1)# here we are starting the training of model by feeding the training data\n",
        "print('Training finished !!')"
      ],
      "id": "metric-stereo"
    },
    {
      "cell_type": "markdown",
      "metadata": {
        "id": "I91x4SIkxUwi"
      },
      "source": [
        "**Observation :** \n",
        "</br>\n",
        "Epoch has been called 6 times and model has been trained."
      ],
      "id": "I91x4SIkxUwi"
    },
    {
      "cell_type": "markdown",
      "metadata": {
        "id": "prime-climate"
      },
      "source": [
        "<h1> We need to do all the above configurations to train the model. If we will not set all settings correctly then we could not get the desired results.</h1>"
      ],
      "id": "prime-climate"
    },
    {
      "cell_type": "markdown",
      "metadata": {
        "id": "eoYP4lo5xtFN"
      },
      "source": [
        "<div class=\"alert alert-block alert-danger\">  \n",
        "<h2><strong>Testing the Trained model on test data</strong></h2>   \n",
        "</div>\n",
        "\n",
        "- Getting predictions/classifying the sentiments (positve/negative) on the test data using trained model."
      ],
      "id": "eoYP4lo5xtFN"
    },
    {
      "cell_type": "code",
      "execution_count": null,
      "metadata": {
        "colab": {
          "base_uri": "https://localhost:8080/"
        },
        "id": "early-lying",
        "outputId": "7e14865d-948a-4bc1-ad2d-6e890e84b686"
      },
      "outputs": [
        {
          "output_type": "stream",
          "name": "stdout",
          "text": [
            "375/375 [==============================] - 16s 41ms/step - loss: 0.5245 - accuracy: 0.7439\n"
          ]
        }
      ],
      "source": [
        "accr1 = model.evaluate(X_test,Y_test) #we are starting to test the model here"
      ],
      "id": "early-lying"
    },
    {
      "cell_type": "markdown",
      "metadata": {
        "id": "j-BED3wMyQ8h"
      },
      "source": [
        "**Observation :** \n",
        "</br>\n",
        "Trained model has been tested on test data."
      ],
      "id": "j-BED3wMyQ8h"
    },
    {
      "cell_type": "markdown",
      "metadata": {
        "id": "played-explosion"
      },
      "source": [
        "<div class=\"alert alert-block alert-danger\">  \n",
        "<h2><strong>Accuracy</strong></h2>   \n",
        "</div>\n",
        "\n",
        "- Accuracy is the number of correctly classify tweets from all the tweets of positive and negative. \n",
        "- For example, if the trained model classify the 70 tweets correct and 30 tweets wrong from total of 100 tweets then the accuracy score will be 70%. \n",
        "- Accuracy= Total number of correct predictions/Total number of predictions"
      ],
      "id": "played-explosion"
    },
    {
      "cell_type": "code",
      "execution_count": null,
      "metadata": {
        "colab": {
          "base_uri": "https://localhost:8080/"
        },
        "id": "optical-lloyd",
        "outputId": "188dd744-c321-40a2-d54b-5597dd930261"
      },
      "outputs": [
        {
          "output_type": "stream",
          "name": "stdout",
          "text": [
            "Test set\n",
            "  Accuracy: 0.74\n"
          ]
        }
      ],
      "source": [
        "print('Test set\\n  Accuracy: {:0.2f}'.format(accr1[1])) #the accuracy of the model on test data is given below"
      ],
      "id": "optical-lloyd"
    },
    {
      "cell_type": "markdown",
      "metadata": {
        "id": "s5UsSbftyl4A"
      },
      "source": [
        "**Observation :** \n",
        "</br>\n",
        "Accuracy has been tested on test data and the result is 74% accurate."
      ],
      "id": "s5UsSbftyl4A"
    },
    {
      "cell_type": "markdown",
      "metadata": {
        "id": "rolled-burden"
      },
      "source": [
        "<div class=\"alert alert-block alert-danger\">  \n",
        "<h2><strong>Getting prediction of the test data and then we will compare the true labels/classes of the data with predictions</strong></h2>   \n",
        "</div>\n",
        "\n",
        "- As the model give probabilties so we are setting a threshold 0.5. More than 0.5 will be the positive tweets and lower will be negative tweets."
      ],
      "id": "rolled-burden"
    },
    {
      "cell_type": "code",
      "execution_count": null,
      "metadata": {
        "colab": {
          "base_uri": "https://localhost:8080/"
        },
        "id": "ordered-reader",
        "outputId": "7b36566c-84e8-4bab-972a-79dbf4190968"
      },
      "outputs": [
        {
          "output_type": "stream",
          "name": "stdout",
          "text": [
            "375/375 [==============================] - 16s 41ms/step\n"
          ]
        }
      ],
      "source": [
        "y_pred = model.predict(X_test) #getting predictions on the trained model\n",
        "y_pred = (y_pred > 0.5) "
      ],
      "id": "ordered-reader"
    },
    {
      "cell_type": "markdown",
      "metadata": {
        "id": "ol4J2aC-y7OZ"
      },
      "source": [
        "**Observation :** \n",
        "</br>\n",
        "Threshold point has been set and if the probability is above 0.5 means the tweet is positive and if below tweet is negative."
      ],
      "id": "ol4J2aC-y7OZ"
    },
    {
      "cell_type": "markdown",
      "metadata": {
        "id": "compliant-latvia"
      },
      "source": [
        "<div class=\"alert alert-block alert-danger\">  \n",
        "<h2><strong>Confusion matrix</strong></h2>   \n",
        "</div>\n",
        "\n",
        "- These are the evaluation measures to evaluate the performance of the model.\n",
        "- Dark blue boxes are the correct predictions with the trained model and sky blue boxes shows the wrong predictions.\n"
      ],
      "id": "compliant-latvia"
    },
    {
      "cell_type": "code",
      "execution_count": null,
      "metadata": {
        "colab": {
          "base_uri": "https://localhost:8080/",
          "height": 730
        },
        "id": "prostate-egyptian",
        "outputId": "d54bc545-ebba-46d6-bd54-1ca75a7b5891"
      },
      "outputs": [
        {
          "output_type": "stream",
          "name": "stdout",
          "text": [
            "\n",
            "\n",
            "confusion matrix\n",
            "\n",
            "\n",
            "[[4381 1628]\n",
            " [1445 4546]]\n",
            "\n",
            "\n"
          ]
        },
        {
          "output_type": "display_data",
          "data": {
            "text/plain": [
              "<Figure size 720x720 with 2 Axes>"
            ],
            "image/png": "[encoded data removed]"
          },
          "metadata": {
            "needs_background": "light"
          }
        }
      ],
      "source": [
        "print('\\n')\n",
        "print(\"confusion matrix\")\n",
        "print('\\n')\n",
        "CR=confusion_matrix(Y_test, y_pred)\n",
        "print(CR)\n",
        "print('\\n')\n",
        "\n",
        "fig, ax = plot_confusion_matrix(conf_mat=CR,figsize=(10, 10),\n",
        "                                show_absolute=True,\n",
        "                                show_normed=True,\n",
        "                                colorbar=True)\n",
        "plt.show()"
      ],
      "id": "prostate-egyptian"
    },
    {
      "cell_type": "markdown",
      "metadata": {
        "id": "3m_190NQzknZ"
      },
      "source": [
        "**Observation :** \n",
        "</br>\n",
        "\n",
        "- 4610 tweets correctly predicted as negative sentiments. 1399 tweets predicted positive sentiments but that were actually negative sentiments.\n",
        "- 4247 tweets correctly predicted as postive sentiments. 1744 tweets predicted negative sentiments but that were actually positive sentiments."
      ],
      "id": "3m_190NQzknZ"
    },
    {
      "cell_type": "markdown",
      "metadata": {
        "id": "checked-disorder"
      },
      "source": [
        "<div class=\"alert alert-block alert-danger\">  \n",
        "<h2><strong>ROC CURVE</strong></h2>   \n",
        "</div>\n",
        "\n",
        "- ROC curve show the performance of the model as well. \n",
        "\n",
        "- ROC curve (receiver operating characteristic curve) show the performance of a classification model at all the classification thresholds. ROC plots two parameters, True Positive Rate (correct predictions/classifications) False Positive Rate (wrong predictions/classifications)"
      ],
      "id": "checked-disorder"
    },
    {
      "cell_type": "code",
      "execution_count": null,
      "metadata": {
        "colab": {
          "base_uri": "https://localhost:8080/",
          "height": 299
        },
        "id": "worthy-discharge",
        "outputId": "7647f07a-e303-4cb6-de7f-3a2b36010ef0",
        "scrolled": true
      },
      "outputs": [
        {
          "output_type": "display_data",
          "data": {
            "text/plain": [
              "<Figure size 432x288 with 1 Axes>"
            ],
            "image/png": "[encoded data removed]"
          },
          "metadata": {
            "needs_background": "light"
          }
        }
      ],
      "source": [
        "fpr, tpr, thresholds = roc_curve(Y_test, y_pred)\n",
        "roc_auc = auc(fpr, tpr)\n",
        "plt.figure()\n",
        "plt.plot(fpr, tpr, color='darkorange', lw=1, label='ROC curve (area = %0.2f)' % roc_auc)\n",
        "plt.xlim([0.0, 1.0])\n",
        "plt.ylim([0.0, 1.05])\n",
        "plt.xlabel('False Positive Rate')\n",
        "plt.ylabel('True Positive Rate')\n",
        "plt.title('ROC CURVE')\n",
        "plt.legend(loc=\"lower right\")\n",
        "plt.show()"
      ],
      "id": "worthy-discharge"
    },
    {
      "cell_type": "markdown",
      "metadata": {
        "id": "TssKF-rQz_i1"
      },
      "source": [
        "**Observation :** \n",
        "</br>\n",
        "\n",
        "We can see that the model started from the 0 percent predictions and then moved to true positive predictions that are correct"
      ],
      "id": "TssKF-rQz_i1"
    },
    {
      "cell_type": "markdown",
      "metadata": {
        "id": "inner-clinic"
      },
      "source": [
        "<div class=\"alert alert-block alert-success\">  \n",
        "<h1><strong>Conclusion 📝</strong></h1>\n",
        "    <h4>\n",
        "<li>We used the twitter sentiment analysis dataset and explored the data with different ways.</li>\n",
        "        <li>We prepared the text data of tweets by removing the unnecessary things.</li>\n",
        "          <li>We trained model based on tensorflow with all settings. </li>\n",
        "        <li>We evaluated thye model with different evaluation measures.</li>\n",
        "         <li>If you are interested to work on any text based project, you can simply apply the same methodolgy but might be you will need to change little settings like name of coloumns etc.</li>\n",
        "        <li>We worked on the classification problem and sepcifically we call it binary classification which is two class classification.</li>\n",
        "        </h4>\n",
        "</div>"
      ],
      "id": "inner-clinic"
    },
    {
      "cell_type": "markdown",
      "metadata": {
        "id": "3vlZre4J0qp5"
      },
      "source": [
        "<div class=\"alert alert-block alert-success\">  \n",
        "<h1><strong>Recommendations</strong></h1>\n",
        "    <h4>\n",
        "    Based on the observations in this analysis below is recommended :\n",
        "<li>\n",
        "Company can get trending topic.</li>\n",
        "        <li>Company can identify users interests and using that can show ads related to their interests.</li>\n",
        "          <li>Through this company can identify positive and negative tweets and with the help of this company can get the ratio of people liking and disliking that perticular thing. </li>\n",
        "        </h4>\n",
        "</div>\n",
        "</br>\n",
        "\n",
        "---\n",
        "\n"
      ],
      "id": "3vlZre4J0qp5"
    }
  ],
  "metadata": {
    "colab": {
      "provenance": [],
      "include_colab_link": true
    },
    "kernelspec": {
      "display_name": "Python 3",
      "language": "python",
      "name": "python3"
    },
    "language_info": {
      "codemirror_mode": {
        "name": "ipython",
        "version": 3
      },
      "file_extension": ".py",
      "mimetype": "text/x-python",
      "name": "python",
      "nbconvert_exporter": "python",
      "pygments_lexer": "ipython3",
      "version": "3.7.9"
    },
    "papermill": {
      "default_parameters": {},
      "duration": 1066.843636,
      "end_time": "2022-12-10T19:05:41.148873",
      "environment_variables": {},
      "exception": null,
      "input_path": "__notebook__.ipynb",
      "output_path": "__notebook__.ipynb",
      "parameters": {},
      "start_time": "2022-12-10T18:47:54.305237",
      "version": "2.3.2"
    }
  },
  "nbformat": 4,
  "nbformat_minor": 5
}